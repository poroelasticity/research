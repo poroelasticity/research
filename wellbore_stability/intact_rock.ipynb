{
 "cells": [
  {
   "cell_type": "markdown",
   "id": "b4c58fa7",
   "metadata": {},
   "source": [
    "Mud weight window corresponding to intact rock"
   ]
  },
  {
   "cell_type": "code",
   "execution_count": 3,
   "id": "148a213a",
   "metadata": {},
   "outputs": [
    {
     "name": "stdout",
     "output_type": "stream",
     "text": [
      "0.6200147737193763\n",
      "0.8199999999999997\n"
     ]
    }
   ],
   "source": [
    "import numpy as np\n",
    "\n",
    "to   = 0.08\n",
    "co   = 0.127\n",
    "phio = np.pi/6\n",
    "sH      = 0.9\n",
    "sh      = 0.7\n",
    "po      = 0.46\n",
    "\n",
    "pmmin = po + (3*sH-sh-2*po-2*co*np.cos(phio)/(1-np.sin(phio)))/(1+(np.cos(phio)/(1-np.sin(phio)))**2)\n",
    "pmmax = 3*sh - sH - po + to\n",
    "print(pmmin)\n",
    "print(pmmax)"
   ]
  }
 ],
 "metadata": {
  "kernelspec": {
   "display_name": "Python 3 (ipykernel)",
   "language": "python",
   "name": "python3"
  },
  "language_info": {
   "codemirror_mode": {
    "name": "ipython",
    "version": 3
   },
   "file_extension": ".py",
   "mimetype": "text/x-python",
   "name": "python",
   "nbconvert_exporter": "python",
   "pygments_lexer": "ipython3",
   "version": "3.9.7"
  }
 },
 "nbformat": 4,
 "nbformat_minor": 5
}
