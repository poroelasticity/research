{
 "cells": [
  {
   "cell_type": "code",
   "execution_count": 1,
   "id": "993ddc91",
   "metadata": {},
   "outputs": [],
   "source": [
    "import matplotlib.pyplot as plt\n",
    "from mpl_toolkits.mplot3d import Axes3D\n",
    "import numpy as np"
   ]
  },
  {
   "cell_type": "markdown",
   "id": "13aec3f2",
   "metadata": {},
   "source": [
    "functions"
   ]
  },
  {
   "cell_type": "code",
   "execution_count": 2,
   "id": "d286baa4",
   "metadata": {},
   "outputs": [],
   "source": [
    "def failurezone(sH, sh, sv, pm, po, poisson, tw, gamma, alphaw, betaw):\n",
    "\n",
    "    x_store = np.linspace(-axisrange, axisrange, 101)\n",
    "    y_store = np.linspace(-axisrange, axisrange, 101)\n",
    "    xw_plot = []\n",
    "    yw_plot = []\n",
    "    zw_plot = []\n",
    "    lt_store = []\n",
    "\n",
    "    for x in x_store:\n",
    "        for y in y_store:\n",
    "        \n",
    "            if x**2+y**2 >= 1:\n",
    "            \n",
    "                r = np.sqrt(x**2+y**2)\n",
    "                cos_t = x/r\n",
    "                sin_t = y/r\n",
    "                cos_2t = cos_t**2-sin_t**2\n",
    "                sin_2t = 2*cos_t*sin_t\n",
    "            \n",
    "                sr  =  (sH+sh)/2*(1-(1/r)**2)+(sH-sh)/2*(1-4*(1/r)**2+3*(1/r)**4)*cos_2t+pm*(1/r)**2\n",
    "                st  =  (sH+sh)/2*(1+(1/r)**2)-(sH-sh)/2*(1+3*(1/r)**4)*cos_2t-pm*(1/r)**2\n",
    "                srt = -(sH-sh)/2*(1+2*(1/r)**2-3*(1/r)**4)*sin_2t\n",
    "                sz  =   sv-2*poisson*(sH-sh)*(1/r)**2*cos_2t\n",
    "            \n",
    "                s_polar   = np.array([[sr, srt, 0],\n",
    "                                      [srt, st, 0],\n",
    "                                      [0,   0,  sz]])\n",
    "                polar_xyz = np.array([[cos_t, -sin_t, 0],\n",
    "                                      [sin_t,  cos_t, 0],\n",
    "                                      [0,      0,     1]])\n",
    "                xyz_W     = np.array([[ np.cos(alphaw)*np.cos(betaw),  np.sin(alphaw)*np.cos(betaw), -np.sin(betaw)],\n",
    "                                      [-np.sin(alphaw),                np.cos(alphaw),               0],\n",
    "                                      [ np.cos(alphaw)*np.sin(betaw),  np.sin(alphaw)*np.sin(betaw), np.cos(betaw)]])\n",
    "            \n",
    "                s_xyz = np.matmul(np.matmul(polar_xyz, s_polar), polar_xyz.transpose())\n",
    "                s_W   = np.matmul(np.matmul(xyz_W, s_xyz), xyz_W.transpose())\n",
    "            \n",
    "                sz_w  = s_W[2,2]\n",
    "                szx_w = s_W[2,0]\n",
    "                szy_w = s_W[2,1]\n",
    "            \n",
    "                l = -(sz_w-po+gamma*(po-pm)+tw)\n",
    "                \n",
    "                if l > 0:\n",
    "                    z = -np.cos(alphaw)*np.sin(betaw)/np.cos(betaw)*x-np.sin(alphaw)*np.sin(betaw)/np.cos(betaw)*y\n",
    "                    xw_plot.append(x)\n",
    "                    yw_plot.append(y)\n",
    "                    zw_plot.append(z)\n",
    "                    lt_store.append(l)\n",
    "    return xw_plot, yw_plot, zw_plot, lt_store"
   ]
  },
  {
   "cell_type": "markdown",
   "id": "ec39b04c",
   "metadata": {},
   "source": [
    "plot ltmax with pm"
   ]
  },
  {
   "cell_type": "code",
   "execution_count": 5,
   "id": "1516a8f9",
   "metadata": {
    "scrolled": true
   },
   "outputs": [
    {
     "data": {
      "image/png": "[encoded data removed]",
      "text/plain": [
       "<Figure size 432x316.8 with 1 Axes>"
      ]
     },
     "metadata": {
      "needs_background": "light"
     },
     "output_type": "display_data"
    }
   ],
   "source": [
    "sH      = 0.9\n",
    "sh      = 0.7\n",
    "sv      = 0.8\n",
    "po      = 0.46\n",
    "poisson = 0.35\n",
    "tw      = 0\n",
    "alphaw_storage  = [0, 0, np.pi/4, np.pi/4, np.pi/2, np.pi/2]\n",
    "betaw_storage   = [np.pi/6, np.pi/3, np.pi/6, np.pi/3, np.pi/6, np.pi/3]\n",
    "gamma   = 0.7\n",
    "\n",
    "axisrange    = 2\n",
    "holeradius   = 1\n",
    "\n",
    "fig = plt.figure(figsize=(6, 4.4))\n",
    "\n",
    "pm_storage    = [0.62,0.63,0.64,0.65,0.66,0.67,0.68,0.69,0.7,0.71,0.72,0.73,0.74,0.75,0.76,0.77,0.78,0.79,0.8,0.81,0.82]\n",
    "color_storage = ['#1f77b4', '#ff7f0e', '#2ca02c', '#d62728', '#9467bd', '#8c564b']\n",
    "for i in range(6):\n",
    "    \n",
    "    alphaw = alphaw_storage[i]\n",
    "    betaw = betaw_storage[i]\n",
    "    lt_store_max   = []    \n",
    "    \n",
    "    for j in range(21):\n",
    "    \n",
    "        pm = pm_storage[j]\n",
    "        xw_plot, yw_plot, zw_plot, lt_store = failurezone(sH, sh, sv, pm, po, poisson, tw, gamma, alphaw, betaw)\n",
    "    \n",
    "        if lt_store == []:  \n",
    "            lt_store_max.append(0)\n",
    "        else: \n",
    "            lt_store_max.append(max(lt_store))\n",
    "            \n",
    "    plt.subplot(111)\n",
    "    plt.plot(pm_storage, lt_store_max, linewidth = 1, color = color_storage[i])\n",
    "\n",
    "plt.legend([r'$\\alpha_{w}=0\\degree,\\:\\beta_{w}=30\\degree$',r'$\\alpha_{w}=0\\degree,\\:\\beta_{w}=60\\degree$',r'$\\alpha_{w}=45\\degree,\\:\\beta_{w}=30\\degree$',r'$\\alpha_{w}=45\\degree,\\:\\beta_{w}=60\\degree$',r'$\\alpha_{w}=90\\degree,\\:\\beta_{w}=30\\degree$',r'$\\alpha_{w}=90\\degree,\\:\\beta_{w}=60\\degree$'],fontsize=9,loc='upper left')\n",
    "plt.xlim(0.62, 0.82)\n",
    "plt.xticks([0.62,0.66,0.7,0.74,0.78,0.82],fontsize=9)\n",
    "plt.xlabel(r'$p_{\\mathrm{m}}\\:\\left(\\mathrm{psi/ft}\\right)$',fontsize=9)\n",
    "plt.ylabel(r'$\\ell_{t\\mathrm{max}}\\:\\left(\\mathrm{psi/ft}\\right)$',fontsize=9)\n",
    "plt.show()\n",
    "fig.savefig('sensitivityt.pdf')\n",
    "\n"
   ]
  }
 ],
 "metadata": {
  "kernelspec": {
   "display_name": "Python 3 (ipykernel)",
   "language": "python",
   "name": "python3"
  },
  "language_info": {
   "codemirror_mode": {
    "name": "ipython",
    "version": 3
   },
   "file_extension": ".py",
   "mimetype": "text/x-python",
   "name": "python",
   "nbconvert_exporter": "python",
   "pygments_lexer": "ipython3",
   "version": "3.9.7"
  }
 },
 "nbformat": 4,
 "nbformat_minor": 5
}
